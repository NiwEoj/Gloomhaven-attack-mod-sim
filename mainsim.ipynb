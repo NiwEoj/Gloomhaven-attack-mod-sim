{
 "cells": [
  {
   "cell_type": "code",
   "execution_count": 125,
   "metadata": {},
   "outputs": [],
   "source": [
    "import random,math,timeit,numpy,statistics\n",
    "import matplotlib.pyplot as plt\n",
    "import seaborn as sns\n",
    "import pandas as pd\n",
    "sns.set_style(\"darkgrid\")"
   ]
  },
  {
   "cell_type": "code",
   "execution_count": 126,
   "metadata": {},
   "outputs": [],
   "source": [
    "# create deck\n",
    "null     = 1\n",
    "minustwo = 0\n",
    "minusone = 5\n",
    "zero     = 6\n",
    "plusone  = 5\n",
    "plustwo  = 1\n",
    "plusthree = 0\n",
    "crit     = 1\n",
    "\n",
    "cards = [null,minustwo,minusone,zero,plusone,plustwo,plusthree,crit]\n",
    "\n",
    "deck = []\n",
    "n = 0\n",
    "for x in cards:\n",
    "    i = 0\n",
    "    if n == 0:\n",
    "        while x > i:\n",
    "            deck.append('NULL')\n",
    "            i = i + 1\n",
    "        n = n + 1\n",
    "    elif n == 7:\n",
    "        while x > i:\n",
    "            deck.append('CRIT')\n",
    "            i = i + 1\n",
    "    else:\n",
    "        while x > i:\n",
    "            deck.append(n-3)\n",
    "            i = i + 1\n",
    "        n = n + 1"
   ]
  },
  {
   "cell_type": "code",
   "execution_count": 132,
   "metadata": {},
   "outputs": [
    {
     "ename": "AttributeError",
     "evalue": "'NoneType' object has no attribute 'append'",
     "output_type": "error",
     "traceback": [
      "\u001b[1;31m---------------------------------------------------------------------------\u001b[0m",
      "\u001b[1;31mAttributeError\u001b[0m                            Traceback (most recent call last)",
      "Cell \u001b[1;32mIn[132], line 32\u001b[0m\n\u001b[0;32m     30\u001b[0m \u001b[38;5;28;01mfor\u001b[39;00m x \u001b[38;5;129;01min\u001b[39;00m \u001b[38;5;28mrange\u001b[39m(freq\u001b[38;5;241m.\u001b[39mlast_valid_index() \u001b[38;5;241m+\u001b[39m \u001b[38;5;241m1\u001b[39m):\n\u001b[0;32m     31\u001b[0m     \u001b[38;5;28;01mif\u001b[39;00m freq\u001b[38;5;241m.\u001b[39mindex[x] \u001b[38;5;241m!=\u001b[39m x:\n\u001b[1;32m---> 32\u001b[0m         lfreq \u001b[38;5;241m=\u001b[39m \u001b[43mlfreq\u001b[49m\u001b[38;5;241;43m.\u001b[39;49m\u001b[43mappend\u001b[49m(\u001b[38;5;124m'\u001b[39m\u001b[38;5;124msee\u001b[39m\u001b[38;5;124m'\u001b[39m)\n\u001b[0;32m     33\u001b[0m     \u001b[38;5;28;01melse\u001b[39;00m:\n\u001b[0;32m     34\u001b[0m         lfreq \u001b[38;5;241m=\u001b[39m lfreq\u001b[38;5;241m.\u001b[39mappend(freq[x])     \n",
      "\u001b[1;31mAttributeError\u001b[0m: 'NoneType' object has no attribute 'append'"
     ]
    }
   ],
   "source": [
    "# set number of cycles\n",
    "t = 10000\n",
    "basedmg = 3\n",
    "\n",
    "\n",
    "k = 0\n",
    "data = []\n",
    "while k < t:\n",
    "    testdeck = list(deck)\n",
    "    random.shuffle(testdeck)\n",
    "    while len(testdeck) > 0 and k < t:\n",
    "        i = testdeck.pop(0) \n",
    "        if i == 'NULL':\n",
    "            testdeck = []\n",
    "            data.append(0)\n",
    "        elif i == 'CRIT':\n",
    "            testdeck = []\n",
    "            data.append(2*basedmg)\n",
    "        else: \n",
    "            data.append(basedmg + i)\n",
    "        k = k + 1\n",
    "\n",
    "data = pd.Series(data)\n",
    "freq = data.value_counts()\n",
    "freq = freq.sort_index()\n",
    "for x in freq.index:\n",
    "    freq[x] = freq[x]/t\n",
    "\n",
    "lfreq = []\n",
    "for x in range(freq.last_valid_index() + 1):\n",
    "    if freq.index[x] != x:\n",
    "        lfreq = lfreq.append('see')\n",
    "    else:\n",
    "        lfreq = lfreq.append(freq[x])     "
   ]
  },
  {
   "cell_type": "code",
   "execution_count": null,
   "metadata": {},
   "outputs": [
    {
     "data": {
      "text/plain": [
       "NoneType"
      ]
     },
     "execution_count": 122,
     "metadata": {},
     "output_type": "execute_result"
    }
   ],
   "source": [
    "type(lfreq)"
   ]
  },
  {
   "cell_type": "code",
   "execution_count": null,
   "metadata": {},
   "outputs": [
    {
     "data": {
      "text/plain": [
       "3.1091999999999995"
      ]
     },
     "metadata": {},
     "output_type": "display_data"
    },
    {
     "data": {
      "image/png": "[encoded data removed]",
      "text/plain": [
       "<Figure size 500x500 with 1 Axes>"
      ]
     },
     "metadata": {},
     "output_type": "display_data"
    }
   ],
   "source": [
    "ax = sns.displot(data=data,discrete=True)\n",
    "ax.axes.ravel()[0].bar_label(ax.axes.ravel()[0].containers[0],labels=list(freq));\n",
    "avg = 0\n",
    "for x in freq.index:\n",
    "    avg = avg + freq[x]*x\n",
    "display(avg)"
   ]
  }
 ],
 "metadata": {
  "kernelspec": {
   "display_name": "Python 3",
   "language": "python",
   "name": "python3"
  },
  "language_info": {
   "codemirror_mode": {
    "name": "ipython",
    "version": 3
   },
   "file_extension": ".py",
   "mimetype": "text/x-python",
   "name": "python",
   "nbconvert_exporter": "python",
   "pygments_lexer": "ipython3",
   "version": "3.11.8"
  }
 },
 "nbformat": 4,
 "nbformat_minor": 2
}
